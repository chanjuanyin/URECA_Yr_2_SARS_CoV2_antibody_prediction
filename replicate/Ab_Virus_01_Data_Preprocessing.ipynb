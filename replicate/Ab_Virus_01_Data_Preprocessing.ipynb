{
 "cells": [
  {
   "cell_type": "markdown",
   "metadata": {},
   "source": [
    "# 1. Import library\n",
    "Note: Combined from various sources, much more comprehensive than the original code provided. Import 也很讲究 XDXD\n",
    "\n",
    "Also note: For this \"Ab_Virus_01_Data_Preprocessing_v01.ipynb\" Jupyter Notebook, you have to run it in the <b>\"my-rdkit-env\"<b> environment."
   ]
  },
  {
   "cell_type": "markdown",
   "metadata": {},
   "source": [
    "### 1.1 Import RDKit"
   ]
  },
  {
   "cell_type": "code",
   "execution_count": 1,
   "metadata": {},
   "outputs": [
    {
     "name": "stderr",
     "output_type": "stream",
     "text": [
      "RDKit WARNING: [17:55:28] Enabling RDKit 2019.09.3 jupyter extensions\n"
     ]
    }
   ],
   "source": [
    "from rdkit import Chem"
   ]
  },
  {
   "cell_type": "markdown",
   "metadata": {},
   "source": [
    "### 1.2 Import OS and Path"
   ]
  },
  {
   "cell_type": "code",
   "execution_count": 2,
   "metadata": {},
   "outputs": [],
   "source": [
    "import os\n",
    "from pathlib import Path"
   ]
  },
  {
   "cell_type": "markdown",
   "metadata": {},
   "source": [
    "### 1.3 Import data structures"
   ]
  },
  {
   "cell_type": "code",
   "execution_count": 3,
   "metadata": {},
   "outputs": [],
   "source": [
    "import numpy as np\n",
    "import pandas as pd\n",
    "import multiprocessing\n",
    "import logging"
   ]
  },
  {
   "cell_type": "markdown",
   "metadata": {},
   "source": [
    "### 1.4 Import visualisation tools"
   ]
  },
  {
   "cell_type": "code",
   "execution_count": 4,
   "metadata": {},
   "outputs": [],
   "source": [
    "import seaborn as sb\n",
    "sb.set()\n",
    "from matplotlib import pyplot\n",
    "import matplotlib.pyplot as plt\n",
    "%matplotlib inline"
   ]
  },
  {
   "cell_type": "markdown",
   "metadata": {},
   "source": [
    "# 2. Import csv file as panda df"
   ]
  },
  {
   "cell_type": "code",
   "execution_count": 5,
   "metadata": {},
   "outputs": [],
   "source": [
    "# df= pd.read_csv('2F5_4E10_10E8_final.csv') # dataset file here\n",
    "df = pd.read_csv('VirusNet.csv')"
   ]
  },
  {
   "cell_type": "code",
   "execution_count": 6,
   "metadata": {},
   "outputs": [
    {
     "data": {
      "text/html": [
       "<div>\n",
       "<style scoped>\n",
       "    .dataframe tbody tr th:only-of-type {\n",
       "        vertical-align: middle;\n",
       "    }\n",
       "\n",
       "    .dataframe tbody tr th {\n",
       "        vertical-align: top;\n",
       "    }\n",
       "\n",
       "    .dataframe thead th {\n",
       "        text-align: right;\n",
       "    }\n",
       "</style>\n",
       "<table border=\"1\" class=\"dataframe\">\n",
       "  <thead>\n",
       "    <tr style=\"text-align: right;\">\n",
       "      <th></th>\n",
       "      <th>FASTA_Ab</th>\n",
       "      <th>FASTA_Virus</th>\n",
       "      <th>Virus</th>\n",
       "      <th>IC50</th>\n",
       "      <th>Class</th>\n",
       "      <th>Type</th>\n",
       "      <th>FASTA_com</th>\n",
       "    </tr>\n",
       "  </thead>\n",
       "  <tbody>\n",
       "    <tr>\n",
       "      <th>449</th>\n",
       "      <td>ALALHFYPGVYDDYGPPIARGVN</td>\n",
       "      <td>ALDSWK</td>\n",
       "      <td>CNE21</td>\n",
       "      <td>50.00000</td>\n",
       "      <td>1</td>\n",
       "      <td>HIV</td>\n",
       "      <td>ALALHFYPGVYDDYGPPIARGVNALDSWK</td>\n",
       "    </tr>\n",
       "    <tr>\n",
       "      <th>477</th>\n",
       "      <td>ALALHFYPGVYDDYGPPIARGVN</td>\n",
       "      <td>ALDSWN</td>\n",
       "      <td>CNXJ0651_6</td>\n",
       "      <td>50.00000</td>\n",
       "      <td>1</td>\n",
       "      <td>HIV</td>\n",
       "      <td>ALALHFYPGVYDDYGPPIARGVNALDSWN</td>\n",
       "    </tr>\n",
       "    <tr>\n",
       "      <th>1858</th>\n",
       "      <td>YTDYWLRRRSASYGDSTAWHYTT</td>\n",
       "      <td>YSKAFQYTGTDGATANRGEQI</td>\n",
       "      <td>NaN</td>\n",
       "      <td>NaN</td>\n",
       "      <td>0</td>\n",
       "      <td>WNV</td>\n",
       "      <td>YTDYWLRRRSASYGDSTAWHYTTYSKAFQYTGTDGATANRGEQI</td>\n",
       "    </tr>\n",
       "    <tr>\n",
       "      <th>587</th>\n",
       "      <td>ALALHFYPGVYDDYGPPIARGVN</td>\n",
       "      <td>ELDKWA</td>\n",
       "      <td>QH0692_42</td>\n",
       "      <td>1.91149</td>\n",
       "      <td>0</td>\n",
       "      <td>HIV</td>\n",
       "      <td>ALALHFYPGVYDDYGPPIARGVNELDKWA</td>\n",
       "    </tr>\n",
       "    <tr>\n",
       "      <th>1165</th>\n",
       "      <td>GNKQQYGQSLSTSSTYALSWGGVIPLLTITNYRETTLGKPIAF</td>\n",
       "      <td>NWFNIT</td>\n",
       "      <td>CNXJ0651_6</td>\n",
       "      <td>50.00000</td>\n",
       "      <td>0</td>\n",
       "      <td>HIV</td>\n",
       "      <td>GNKQQYGQSLSTSSTYALSWGGVIPLLTITNYRETTLGKPIAFNWFNIT</td>\n",
       "    </tr>\n",
       "    <tr>\n",
       "      <th>1760</th>\n",
       "      <td>WRITGPEGWSVDGKYYDFWSGYPEYSHRGSRL</td>\n",
       "      <td>NWFDITNWLWYIK</td>\n",
       "      <td>REJO4541_67</td>\n",
       "      <td>0.14034</td>\n",
       "      <td>0</td>\n",
       "      <td>HIV</td>\n",
       "      <td>WRITGPEGWSVDGKYYDFWSGYPEYSHRGSRLNWFDITNWLWYIK</td>\n",
       "    </tr>\n",
       "    <tr>\n",
       "      <th>1767</th>\n",
       "      <td>WRITGPEGWSVDGKYYDFWSGYPEYSHRGSRL</td>\n",
       "      <td>SWFDITNWLWYIK</td>\n",
       "      <td>SO186_H6_5</td>\n",
       "      <td>0.47300</td>\n",
       "      <td>0</td>\n",
       "      <td>HIV</td>\n",
       "      <td>WRITGPEGWSVDGKYYDFWSGYPEYSHRGSRLSWFDITNWLWYIK</td>\n",
       "    </tr>\n",
       "    <tr>\n",
       "      <th>410</th>\n",
       "      <td>ALALHFYPGVYDDYGPPIARGVN</td>\n",
       "      <td>ALDKWG</td>\n",
       "      <td>CE2010_F5</td>\n",
       "      <td>18.06140</td>\n",
       "      <td>1</td>\n",
       "      <td>HIV</td>\n",
       "      <td>ALALHFYPGVYDDYGPPIARGVNALDKWG</td>\n",
       "    </tr>\n",
       "    <tr>\n",
       "      <th>1861</th>\n",
       "      <td>NNYYRWDGGPSDYWIYGDDSRLDYEDSGAD</td>\n",
       "      <td>TRKSIHLGPGRAFYAT</td>\n",
       "      <td>NaN</td>\n",
       "      <td>NaN</td>\n",
       "      <td>0</td>\n",
       "      <td>HIV</td>\n",
       "      <td>NNYYRWDGGPSDYWIYGDDSRLDYEDSGADTRKSIHLGPGRAFYAT</td>\n",
       "    </tr>\n",
       "    <tr>\n",
       "      <th>832</th>\n",
       "      <td>GNKQQYGQSLSTSSTYALSWGGVIPLLTITNYRETTLGKPIAF</td>\n",
       "      <td>NWFDIS</td>\n",
       "      <td>3603_C11_13</td>\n",
       "      <td>1.32000</td>\n",
       "      <td>0</td>\n",
       "      <td>HIV</td>\n",
       "      <td>GNKQQYGQSLSTSSTYALSWGGVIPLLTITNYRETTLGKPIAFNWFDIS</td>\n",
       "    </tr>\n",
       "    <tr>\n",
       "      <th>1865</th>\n",
       "      <td>YNKYLNRYVQGTHFPQWNREYD</td>\n",
       "      <td>ANSNNPDWDF</td>\n",
       "      <td>NaN</td>\n",
       "      <td>NaN</td>\n",
       "      <td>0</td>\n",
       "      <td>Hepatitis</td>\n",
       "      <td>YNKYLNRYVQGTHFPQWNREYDANSNNPDWDF</td>\n",
       "    </tr>\n",
       "    <tr>\n",
       "      <th>715</th>\n",
       "      <td>GNKQQYGQSLSTSSTYALSWGGVIPLLTITNYRETTLGKPIAF</td>\n",
       "      <td>NWFDIT</td>\n",
       "      <td>1012_11_TC21_3257</td>\n",
       "      <td>3.50000</td>\n",
       "      <td>0</td>\n",
       "      <td>HIV</td>\n",
       "      <td>GNKQQYGQSLSTSSTYALSWGGVIPLLTITNYRETTLGKPIAFNWFDIT</td>\n",
       "    </tr>\n",
       "    <tr>\n",
       "      <th>1429</th>\n",
       "      <td>WRITGPEGWSVDGKYYDFWSGYPEYSHRGSRL</td>\n",
       "      <td>NWFSITKWLWYIK</td>\n",
       "      <td>21399975_E2_B3</td>\n",
       "      <td>0.69600</td>\n",
       "      <td>0</td>\n",
       "      <td>HIV</td>\n",
       "      <td>WRITGPEGWSVDGKYYDFWSGYPEYSHRGSRLNWFSITKWLWYIK</td>\n",
       "    </tr>\n",
       "    <tr>\n",
       "      <th>344</th>\n",
       "      <td>ALALHFYPGVYDDYGPPIARGVN</td>\n",
       "      <td>ELDNWA</td>\n",
       "      <td>C3198_C05</td>\n",
       "      <td>50.00000</td>\n",
       "      <td>1</td>\n",
       "      <td>HIV</td>\n",
       "      <td>ALALHFYPGVYDDYGPPIARGVNELDNWA</td>\n",
       "    </tr>\n",
       "    <tr>\n",
       "      <th>31</th>\n",
       "      <td>ALALHFYPGVYDDYGPPIARGVN</td>\n",
       "      <td>ELDKWD</td>\n",
       "      <td>1054_07_TC4_1499</td>\n",
       "      <td>50.00000</td>\n",
       "      <td>1</td>\n",
       "      <td>HIV</td>\n",
       "      <td>ALALHFYPGVYDDYGPPIARGVNELDKWD</td>\n",
       "    </tr>\n",
       "    <tr>\n",
       "      <th>1006</th>\n",
       "      <td>GNKQQYGQSLSTSSTYALSWGGVIPLLTITNYRETTLGKPIAF</td>\n",
       "      <td>NWFDIT</td>\n",
       "      <td>BJOX015000_11_5</td>\n",
       "      <td>0.16000</td>\n",
       "      <td>0</td>\n",
       "      <td>HIV</td>\n",
       "      <td>GNKQQYGQSLSTSSTYALSWGGVIPLLTITNYRETTLGKPIAFNWFDIT</td>\n",
       "    </tr>\n",
       "    <tr>\n",
       "      <th>1032</th>\n",
       "      <td>GNKQQYGQSLSTSSTYALSWGGVIPLLTITNYRETTLGKPIAF</td>\n",
       "      <td>SWFDIT</td>\n",
       "      <td>C3198_C05</td>\n",
       "      <td>2.40000</td>\n",
       "      <td>0</td>\n",
       "      <td>HIV</td>\n",
       "      <td>GNKQQYGQSLSTSSTYALSWGGVIPLLTITNYRETTLGKPIAFSWFDIT</td>\n",
       "    </tr>\n",
       "    <tr>\n",
       "      <th>1143</th>\n",
       "      <td>GNKQQYGQSLSTSSTYALSWGGVIPLLTITNYRETTLGKPIAF</td>\n",
       "      <td>SWFNIT</td>\n",
       "      <td>CNE31</td>\n",
       "      <td>4.29294</td>\n",
       "      <td>0</td>\n",
       "      <td>HIV</td>\n",
       "      <td>GNKQQYGQSLSTSSTYALSWGGVIPLLTITNYRETTLGKPIAFSWFNIT</td>\n",
       "    </tr>\n",
       "    <tr>\n",
       "      <th>783</th>\n",
       "      <td>GNKQQYGQSLSTSSTYALSWGGVIPLLTITNYRETTLGKPIAF</td>\n",
       "      <td>NWFDIT</td>\n",
       "      <td>247_23</td>\n",
       "      <td>1.71811</td>\n",
       "      <td>0</td>\n",
       "      <td>HIV</td>\n",
       "      <td>GNKQQYGQSLSTSSTYALSWGGVIPLLTITNYRETTLGKPIAFNWFDIT</td>\n",
       "    </tr>\n",
       "    <tr>\n",
       "      <th>547</th>\n",
       "      <td>ALALHFYPGVYDDYGPPIARGVN</td>\n",
       "      <td>ALDSWK</td>\n",
       "      <td>KO756_38_TB12</td>\n",
       "      <td>50.00000</td>\n",
       "      <td>1</td>\n",
       "      <td>HIV</td>\n",
       "      <td>ALALHFYPGVYDDYGPPIARGVNALDSWK</td>\n",
       "    </tr>\n",
       "    <tr>\n",
       "      <th>616</th>\n",
       "      <td>ALALHFYPGVYDDYGPPIARGVN</td>\n",
       "      <td>ALDKWA</td>\n",
       "      <td>T250_4</td>\n",
       "      <td>2.81639</td>\n",
       "      <td>0</td>\n",
       "      <td>HIV</td>\n",
       "      <td>ALALHFYPGVYDDYGPPIARGVNALDKWA</td>\n",
       "    </tr>\n",
       "    <tr>\n",
       "      <th>1228</th>\n",
       "      <td>GNKQQYGQSLSTSSTYALSWGGVIPLLTITNYRETTLGKPIAF</td>\n",
       "      <td>NWFDIS</td>\n",
       "      <td>JRFL_JR2</td>\n",
       "      <td>8.50000</td>\n",
       "      <td>0</td>\n",
       "      <td>HIV</td>\n",
       "      <td>GNKQQYGQSLSTSSTYALSWGGVIPLLTITNYRETTLGKPIAFNWFDIS</td>\n",
       "    </tr>\n",
       "    <tr>\n",
       "      <th>61</th>\n",
       "      <td>ALALHFYPGVYDDYGPPIARGVN</td>\n",
       "      <td>ALDSWA</td>\n",
       "      <td>19314479_A2_5</td>\n",
       "      <td>50.00000</td>\n",
       "      <td>1</td>\n",
       "      <td>HIV</td>\n",
       "      <td>ALALHFYPGVYDDYGPPIARGVNALDSWA</td>\n",
       "    </tr>\n",
       "    <tr>\n",
       "      <th>1745</th>\n",
       "      <td>WRITGPEGWSVDGKYYDFWSGYPEYSHRGSRL</td>\n",
       "      <td>NWFDISNWLWYIR</td>\n",
       "      <td>Q259_17</td>\n",
       "      <td>4.90351</td>\n",
       "      <td>0</td>\n",
       "      <td>HIV</td>\n",
       "      <td>WRITGPEGWSVDGKYYDFWSGYPEYSHRGSRLNWFDISNWLWYIR</td>\n",
       "    </tr>\n",
       "    <tr>\n",
       "      <th>1550</th>\n",
       "      <td>WRITGPEGWSVDGKYYDFWSGYPEYSHRGSRL</td>\n",
       "      <td>SWFSITNWLWYIR</td>\n",
       "      <td>98_F4_H5_13</td>\n",
       "      <td>1.41900</td>\n",
       "      <td>0</td>\n",
       "      <td>HIV</td>\n",
       "      <td>WRITGPEGWSVDGKYYDFWSGYPEYSHRGSRLSWFSITNWLWYIR</td>\n",
       "    </tr>\n",
       "    <tr>\n",
       "      <th>1635</th>\n",
       "      <td>WRITGPEGWSVDGKYYDFWSGYPEYSHRGSRL</td>\n",
       "      <td>NWFSISKWLWYIK</td>\n",
       "      <td>CAP378_2_00_D2_5</td>\n",
       "      <td>1.70800</td>\n",
       "      <td>0</td>\n",
       "      <td>HIV</td>\n",
       "      <td>WRITGPEGWSVDGKYYDFWSGYPEYSHRGSRLNWFSISKWLWYIK</td>\n",
       "    </tr>\n",
       "    <tr>\n",
       "      <th>1836</th>\n",
       "      <td>HYLYRIQSDLSWHFWDDREGYI</td>\n",
       "      <td>CKRIHIGPG</td>\n",
       "      <td>NaN</td>\n",
       "      <td>NaN</td>\n",
       "      <td>0</td>\n",
       "      <td>HIV</td>\n",
       "      <td>HYLYRIQSDLSWHFWDDREGYICKRIHIGPG</td>\n",
       "    </tr>\n",
       "    <tr>\n",
       "      <th>177</th>\n",
       "      <td>ALALHFYPGVYDDYGPPIARGVN</td>\n",
       "      <td>ALDSWN</td>\n",
       "      <td>5807_BM_D1</td>\n",
       "      <td>50.00000</td>\n",
       "      <td>1</td>\n",
       "      <td>HIV</td>\n",
       "      <td>ALALHFYPGVYDDYGPPIARGVNALDSWN</td>\n",
       "    </tr>\n",
       "    <tr>\n",
       "      <th>457</th>\n",
       "      <td>ALALHFYPGVYDDYGPPIARGVN</td>\n",
       "      <td>ELDKWA</td>\n",
       "      <td>CNE5</td>\n",
       "      <td>8.32082</td>\n",
       "      <td>0</td>\n",
       "      <td>HIV</td>\n",
       "      <td>ALALHFYPGVYDDYGPPIARGVNELDKWA</td>\n",
       "    </tr>\n",
       "    <tr>\n",
       "      <th>64</th>\n",
       "      <td>ALALHFYPGVYDDYGPPIARGVN</td>\n",
       "      <td>ALDKWQ</td>\n",
       "      <td>20104663_E11_D2</td>\n",
       "      <td>50.00000</td>\n",
       "      <td>1</td>\n",
       "      <td>HIV</td>\n",
       "      <td>ALALHFYPGVYDDYGPPIARGVNALDKWQ</td>\n",
       "    </tr>\n",
       "  </tbody>\n",
       "</table>\n",
       "</div>"
      ],
      "text/plain": [
       "                                         FASTA_Ab            FASTA_Virus  \\\n",
       "449                       ALALHFYPGVYDDYGPPIARGVN                 ALDSWK   \n",
       "477                       ALALHFYPGVYDDYGPPIARGVN                 ALDSWN   \n",
       "1858                      YTDYWLRRRSASYGDSTAWHYTT  YSKAFQYTGTDGATANRGEQI   \n",
       "587                       ALALHFYPGVYDDYGPPIARGVN                 ELDKWA   \n",
       "1165  GNKQQYGQSLSTSSTYALSWGGVIPLLTITNYRETTLGKPIAF                 NWFNIT   \n",
       "1760             WRITGPEGWSVDGKYYDFWSGYPEYSHRGSRL          NWFDITNWLWYIK   \n",
       "1767             WRITGPEGWSVDGKYYDFWSGYPEYSHRGSRL          SWFDITNWLWYIK   \n",
       "410                       ALALHFYPGVYDDYGPPIARGVN                 ALDKWG   \n",
       "1861               NNYYRWDGGPSDYWIYGDDSRLDYEDSGAD       TRKSIHLGPGRAFYAT   \n",
       "832   GNKQQYGQSLSTSSTYALSWGGVIPLLTITNYRETTLGKPIAF                 NWFDIS   \n",
       "1865                       YNKYLNRYVQGTHFPQWNREYD             ANSNNPDWDF   \n",
       "715   GNKQQYGQSLSTSSTYALSWGGVIPLLTITNYRETTLGKPIAF                 NWFDIT   \n",
       "1429             WRITGPEGWSVDGKYYDFWSGYPEYSHRGSRL          NWFSITKWLWYIK   \n",
       "344                       ALALHFYPGVYDDYGPPIARGVN                 ELDNWA   \n",
       "31                        ALALHFYPGVYDDYGPPIARGVN                 ELDKWD   \n",
       "1006  GNKQQYGQSLSTSSTYALSWGGVIPLLTITNYRETTLGKPIAF                 NWFDIT   \n",
       "1032  GNKQQYGQSLSTSSTYALSWGGVIPLLTITNYRETTLGKPIAF                 SWFDIT   \n",
       "1143  GNKQQYGQSLSTSSTYALSWGGVIPLLTITNYRETTLGKPIAF                 SWFNIT   \n",
       "783   GNKQQYGQSLSTSSTYALSWGGVIPLLTITNYRETTLGKPIAF                 NWFDIT   \n",
       "547                       ALALHFYPGVYDDYGPPIARGVN                 ALDSWK   \n",
       "616                       ALALHFYPGVYDDYGPPIARGVN                 ALDKWA   \n",
       "1228  GNKQQYGQSLSTSSTYALSWGGVIPLLTITNYRETTLGKPIAF                 NWFDIS   \n",
       "61                        ALALHFYPGVYDDYGPPIARGVN                 ALDSWA   \n",
       "1745             WRITGPEGWSVDGKYYDFWSGYPEYSHRGSRL          NWFDISNWLWYIR   \n",
       "1550             WRITGPEGWSVDGKYYDFWSGYPEYSHRGSRL          SWFSITNWLWYIR   \n",
       "1635             WRITGPEGWSVDGKYYDFWSGYPEYSHRGSRL          NWFSISKWLWYIK   \n",
       "1836                       HYLYRIQSDLSWHFWDDREGYI              CKRIHIGPG   \n",
       "177                       ALALHFYPGVYDDYGPPIARGVN                 ALDSWN   \n",
       "457                       ALALHFYPGVYDDYGPPIARGVN                 ELDKWA   \n",
       "64                        ALALHFYPGVYDDYGPPIARGVN                 ALDKWQ   \n",
       "\n",
       "                  Virus      IC50  Class       Type  \\\n",
       "449               CNE21  50.00000      1        HIV   \n",
       "477          CNXJ0651_6  50.00000      1        HIV   \n",
       "1858                NaN       NaN      0        WNV   \n",
       "587           QH0692_42   1.91149      0        HIV   \n",
       "1165         CNXJ0651_6  50.00000      0        HIV   \n",
       "1760        REJO4541_67   0.14034      0        HIV   \n",
       "1767         SO186_H6_5   0.47300      0        HIV   \n",
       "410           CE2010_F5  18.06140      1        HIV   \n",
       "1861                NaN       NaN      0        HIV   \n",
       "832         3603_C11_13   1.32000      0        HIV   \n",
       "1865                NaN       NaN      0  Hepatitis   \n",
       "715   1012_11_TC21_3257   3.50000      0        HIV   \n",
       "1429     21399975_E2_B3   0.69600      0        HIV   \n",
       "344           C3198_C05  50.00000      1        HIV   \n",
       "31     1054_07_TC4_1499  50.00000      1        HIV   \n",
       "1006    BJOX015000_11_5   0.16000      0        HIV   \n",
       "1032          C3198_C05   2.40000      0        HIV   \n",
       "1143              CNE31   4.29294      0        HIV   \n",
       "783              247_23   1.71811      0        HIV   \n",
       "547       KO756_38_TB12  50.00000      1        HIV   \n",
       "616              T250_4   2.81639      0        HIV   \n",
       "1228           JRFL_JR2   8.50000      0        HIV   \n",
       "61        19314479_A2_5  50.00000      1        HIV   \n",
       "1745            Q259_17   4.90351      0        HIV   \n",
       "1550        98_F4_H5_13   1.41900      0        HIV   \n",
       "1635   CAP378_2_00_D2_5   1.70800      0        HIV   \n",
       "1836                NaN       NaN      0        HIV   \n",
       "177          5807_BM_D1  50.00000      1        HIV   \n",
       "457                CNE5   8.32082      0        HIV   \n",
       "64      20104663_E11_D2  50.00000      1        HIV   \n",
       "\n",
       "                                              FASTA_com  \n",
       "449                       ALALHFYPGVYDDYGPPIARGVNALDSWK  \n",
       "477                       ALALHFYPGVYDDYGPPIARGVNALDSWN  \n",
       "1858       YTDYWLRRRSASYGDSTAWHYTTYSKAFQYTGTDGATANRGEQI  \n",
       "587                       ALALHFYPGVYDDYGPPIARGVNELDKWA  \n",
       "1165  GNKQQYGQSLSTSSTYALSWGGVIPLLTITNYRETTLGKPIAFNWFNIT  \n",
       "1760      WRITGPEGWSVDGKYYDFWSGYPEYSHRGSRLNWFDITNWLWYIK  \n",
       "1767      WRITGPEGWSVDGKYYDFWSGYPEYSHRGSRLSWFDITNWLWYIK  \n",
       "410                       ALALHFYPGVYDDYGPPIARGVNALDKWG  \n",
       "1861     NNYYRWDGGPSDYWIYGDDSRLDYEDSGADTRKSIHLGPGRAFYAT  \n",
       "832   GNKQQYGQSLSTSSTYALSWGGVIPLLTITNYRETTLGKPIAFNWFDIS  \n",
       "1865                   YNKYLNRYVQGTHFPQWNREYDANSNNPDWDF  \n",
       "715   GNKQQYGQSLSTSSTYALSWGGVIPLLTITNYRETTLGKPIAFNWFDIT  \n",
       "1429      WRITGPEGWSVDGKYYDFWSGYPEYSHRGSRLNWFSITKWLWYIK  \n",
       "344                       ALALHFYPGVYDDYGPPIARGVNELDNWA  \n",
       "31                        ALALHFYPGVYDDYGPPIARGVNELDKWD  \n",
       "1006  GNKQQYGQSLSTSSTYALSWGGVIPLLTITNYRETTLGKPIAFNWFDIT  \n",
       "1032  GNKQQYGQSLSTSSTYALSWGGVIPLLTITNYRETTLGKPIAFSWFDIT  \n",
       "1143  GNKQQYGQSLSTSSTYALSWGGVIPLLTITNYRETTLGKPIAFSWFNIT  \n",
       "783   GNKQQYGQSLSTSSTYALSWGGVIPLLTITNYRETTLGKPIAFNWFDIT  \n",
       "547                       ALALHFYPGVYDDYGPPIARGVNALDSWK  \n",
       "616                       ALALHFYPGVYDDYGPPIARGVNALDKWA  \n",
       "1228  GNKQQYGQSLSTSSTYALSWGGVIPLLTITNYRETTLGKPIAFNWFDIS  \n",
       "61                        ALALHFYPGVYDDYGPPIARGVNALDSWA  \n",
       "1745      WRITGPEGWSVDGKYYDFWSGYPEYSHRGSRLNWFDISNWLWYIR  \n",
       "1550      WRITGPEGWSVDGKYYDFWSGYPEYSHRGSRLSWFSITNWLWYIR  \n",
       "1635      WRITGPEGWSVDGKYYDFWSGYPEYSHRGSRLNWFSISKWLWYIK  \n",
       "1836                    HYLYRIQSDLSWHFWDDREGYICKRIHIGPG  \n",
       "177                       ALALHFYPGVYDDYGPPIARGVNALDSWN  \n",
       "457                       ALALHFYPGVYDDYGPPIARGVNELDKWA  \n",
       "64                        ALALHFYPGVYDDYGPPIARGVNALDKWQ  "
      ]
     },
     "execution_count": 6,
     "metadata": {},
     "output_type": "execute_result"
    }
   ],
   "source": [
    "df.sample(30)"
   ]
  },
  {
   "cell_type": "code",
   "execution_count": 7,
   "metadata": {},
   "outputs": [
    {
     "data": {
      "text/plain": [
       "HIV                1887\n",
       "Dengue               11\n",
       "Influenza            11\n",
       "Hepatitis             4\n",
       "SARS                  4\n",
       "Ebola                 4\n",
       "RSV                   3\n",
       "WNV                   2\n",
       "Cytomegalovirus       1\n",
       "Pseudorabies          1\n",
       "Vaccinia              1\n",
       "H1N1                  1\n",
       "HS                    1\n",
       "Poxvirus              1\n",
       "F&MD                  1\n",
       "Name: Type, dtype: int64"
      ]
     },
     "execution_count": 7,
     "metadata": {},
     "output_type": "execute_result"
    }
   ],
   "source": [
    "df['Type'].value_counts()"
   ]
  },
  {
   "cell_type": "markdown",
   "metadata": {},
   "source": [
    "# 3. Convert FASTA to Molecular and Atomic representation, and finally to one-hot vector\n",
    "One-hot vector in dimension of 1933 molecules X 179 atoms X 37 atomic features"
   ]
  },
  {
   "cell_type": "code",
   "execution_count": 6,
   "metadata": {},
   "outputs": [
    {
     "name": "stdout",
     "output_type": "stream",
     "text": [
      "1933\n"
     ]
    }
   ],
   "source": [
    "mol_virus = []\n",
    "for i in range (len(df['FASTA_Virus'])):\n",
    "    mol = Chem.MolFromFASTA(df['FASTA_Virus'].loc[i])\n",
    "    mol_virus.append(mol)\n",
    "print(len(mol_virus))"
   ]
  },
  {
   "cell_type": "code",
   "execution_count": 7,
   "metadata": {},
   "outputs": [
    {
     "name": "stdout",
     "output_type": "stream",
     "text": [
      "1933\n"
     ]
    }
   ],
   "source": [
    "mol_ab = []\n",
    "for i in range (len(df['FASTA_Ab'])):\n",
    "    mol = Chem.MolFromFASTA(df['FASTA_Ab'].loc[i])\n",
    "    mol_ab.append(mol)\n",
    "print(len(mol_ab))"
   ]
  },
  {
   "cell_type": "code",
   "execution_count": 8,
   "metadata": {},
   "outputs": [
    {
     "data": {
      "image/png": "[encoded data removed]",
      "text/plain": [
       "<rdkit.Chem.rdchem.Mol at 0x7fe1ac558b20>"
      ]
     },
     "execution_count": 8,
     "metadata": {},
     "output_type": "execute_result"
    }
   ],
   "source": [
    "# Visualise a molecule:\n",
    "\n",
    "mol = mol_ab[0]\n",
    "mol"
   ]
  },
  {
   "cell_type": "code",
   "execution_count": 9,
   "metadata": {},
   "outputs": [
    {
     "name": "stdout",
     "output_type": "stream",
     "text": [
      "179\n"
     ]
    }
   ],
   "source": [
    "atoms = mol.GetAtoms()\n",
    "print(len(atoms))"
   ]
  },
  {
   "cell_type": "code",
   "execution_count": 10,
   "metadata": {},
   "outputs": [
    {
     "name": "stdout",
     "output_type": "stream",
     "text": [
      "N 1 2 0 0\n",
      "SP3 False\n",
      "2\n",
      "Chirality not possible,  0\n"
     ]
    }
   ],
   "source": [
    "# Individual atom:\n",
    "\n",
    "atom = atoms[0]\n",
    "print(atom.GetSymbol(), atom.GetDegree(), atom.GetImplicitValence(), atom.GetFormalCharge(), atom.GetNumRadicalElectrons())\n",
    "print(atom.GetHybridization(), atom.GetIsAromatic())\n",
    "print(atom.GetTotalNumHs())\n",
    "\n",
    "try:\n",
    "    print(\"Chirality possible, \", atom.GetProp('_CIPCode'), atom.HasProp('_ChiralityPossible'))\n",
    "except:\n",
    "    print(\"Chirality not possible, \", atom.HasProp('_ChiralityPossible'))\n"
   ]
  },
  {
   "cell_type": "code",
   "execution_count": 11,
   "metadata": {},
   "outputs": [],
   "source": [
    "def mol2vec(mol): # creates features\n",
    "    atoms = mol.GetAtoms()\n",
    "    node_f= [atom_features(atom) for atom in atoms] # There are 179 atoms?\n",
    "    return node_f\n",
    "\n",
    "def atom_features(atom,explicit_H=False,use_chirality=False):\n",
    "  # from rdkit import Chem\n",
    "  \n",
    "  # Convert atom.GetSynbol() into a one-hot vector (6 columns)\n",
    "  # if atom.GetSymbol()=='C',       it will return [1, 0, 0, 0, 0, 0]\n",
    "  # if atom.GetSymbol()=='unknown', it will return [0, 0, 0, 0, 0, 1]\n",
    "  results = one_of_k_encoding_unk(atom.GetSymbol(),\n",
    "    [\n",
    "      'C',\n",
    "      'N',\n",
    "      'O',\n",
    "      'S',\n",
    "      'H',  # H?\n",
    "      'Unknown'\n",
    "    ])\n",
    "  \n",
    "  # Convert atom.GetDegree() into one-hot vector (11 columns)\n",
    "  results += one_of_k_encoding(atom.GetDegree(), [0, 1, 2, 3, 4, 5, 6, 7, 8, 9, 10])\n",
    "  \n",
    "  # Convert atom.GetImplicitValence() into one-hot vector (7 columns)\n",
    "  results += one_of_k_encoding_unk(atom.GetImplicitValence(), [0, 1, 2, 3, 4, 5, 6])\n",
    "  \n",
    "  # Two columns for atom.GetFormalCharge() and atom.GetNumRadicalElectrons() (2 columns)\n",
    "  results += [atom.GetFormalCharge(), atom.GetNumRadicalElectrons()]\n",
    "    \n",
    "  # Convert atom.GetHybridization() into one-hot vector (5 columns)\n",
    "  results += one_of_k_encoding_unk(atom.GetHybridization(), \\\n",
    "    [Chem.rdchem.HybridizationType.SP, Chem.rdchem.HybridizationType.SP2,Chem.rdchem.HybridizationType.SP3, \\\n",
    "     Chem.rdchem.HybridizationType.SP3D, Chem.rdchem.HybridizationType.SP3D2])\n",
    "       \n",
    "  # One column for atom.GetIsAromatic() (1 column)\n",
    "  results += [atom.GetIsAromatic()]\n",
    "  \n",
    "  # Note: default activated\n",
    "  # In case of explicit hydrogen(QM8, QM9), avoid calling `GetTotalNumHs`\n",
    "  # Convert atom.GetTotalNumHs() into one-hot vector (5 columns)\n",
    "  if not explicit_H:  # Default activated\n",
    "    results += one_of_k_encoding_unk(atom.GetTotalNumHs(), [0, 1, 2, 3, 4]) # 5 columns\n",
    "  \n",
    "  # Note: default not activated\n",
    "  # Convert atom.GetProp('_CIPCode') and atom.HasProp('_ChiralityPossible') into one-hot vector (3 columns)\n",
    "  if use_chirality: # Default not activated\n",
    "    try:\n",
    "      results += one_of_k_encoding_unk(atom.GetProp('_CIPCode'),['R', 'S']) + [atom.HasProp('_ChiralityPossible')] # 3 columns\n",
    "    except:\n",
    "      results += [False, False] + [atom.HasProp('_ChiralityPossible')] # 3 columns\n",
    "\n",
    "  return np.array(results) \n",
    "\n",
    "\n",
    "# Convert to a one-hot vector [0, 0, ..., 0, 1, 0, ..., 0, 0]\n",
    "# where 0 denotes it is not true for a feature, 1 denotes it is true for a feature\n",
    "\n",
    "def one_of_k_encoding_unk(x, allowable_set): # Unknown is allowed\n",
    "  \"\"\"Maps inputs not in the allowable set to the last element.\"\"\"\n",
    "  if x not in allowable_set:\n",
    "    x = allowable_set[-1]\n",
    "  return list(map(lambda s: x == s, allowable_set))\n",
    "\n",
    "def one_of_k_encoding(x, allowable_set): # Unknown is not allowed\n",
    "  if x not in allowable_set:\n",
    "    raise Exception(\"input {0} not in allowable set{1}:\".format(\n",
    "        x, allowable_set))\n",
    "  return list(map(lambda s: x == s, allowable_set))"
   ]
  },
  {
   "cell_type": "code",
   "execution_count": 12,
   "metadata": {},
   "outputs": [
    {
     "name": "stderr",
     "output_type": "stream",
     "text": [
      "<ipython-input-12-4f6beb5e560d>:10: VisibleDeprecationWarning: Creating an ndarray from ragged nested sequences (which is a list-or-tuple of lists-or-tuples-or ndarrays with different lengths or shapes) is deprecated. If you meant to do this, you must specify 'dtype=object' when creating the ndarray.\n",
      "  ab_feature = np.asarray(ab_feature)\n"
     ]
    }
   ],
   "source": [
    "ab_feature = []\n",
    "for i in range (len(mol_ab)):\n",
    "    ab = mol2vec(mol_ab[i])\n",
    "    # print(ab)\n",
    "    for i in range(len(ab)):\n",
    "    \tif ((ab[i][29]==1)): # if atom.GetHybridization() == Chem.rdchem.HybridizationType.SP3D\n",
    "    \t\tprint(i)\n",
    "    ab = np.asarray(ab)\n",
    "    ab_feature.append(ab)\n",
    "ab_feature = np.asarray(ab_feature)"
   ]
  },
  {
   "cell_type": "markdown",
   "metadata": {},
   "source": [
    "Notice that shape is not consistent across all molecules due to the varying number of atoms for each molecule, but the dimension of the one-hot vector is consistent, since it is defined by the atom_features function above."
   ]
  },
  {
   "cell_type": "code",
   "execution_count": 13,
   "metadata": {},
   "outputs": [
    {
     "name": "stdout",
     "output_type": "stream",
     "text": [
      "1933\n",
      "(179, 37)\n",
      "(263, 37)\n"
     ]
    }
   ],
   "source": [
    "print(ab_feature.shape[0])\n",
    "print(ab_feature[0].shape)\n",
    "print(ab_feature[1932].shape)"
   ]
  },
  {
   "cell_type": "code",
   "execution_count": 14,
   "metadata": {},
   "outputs": [
    {
     "name": "stdout",
     "output_type": "stream",
     "text": [
      "[array([[0, 1, 0, ..., 1, 0, 0],\n",
      "        [1, 0, 0, ..., 0, 0, 0],\n",
      "        [1, 0, 0, ..., 0, 0, 0],\n",
      "        ...,\n",
      "        [0, 0, 1, ..., 0, 0, 0],\n",
      "        [0, 1, 0, ..., 1, 0, 0],\n",
      "        [0, 0, 1, ..., 0, 0, 0]]) array([[0, 1, 0, ..., 1, 0, 0],\n",
      "                                         [1, 0, 0, ..., 0, 0, 0],\n",
      "                                         [1, 0, 0, ..., 0, 0, 0],\n",
      "                                         ...,\n",
      "                                         [0, 0, 1, ..., 0, 0, 0],\n",
      "                                         [0, 1, 0, ..., 1, 0, 0],\n",
      "                                         [0, 0, 1, ..., 0, 0, 0]])\n",
      " array([[0, 1, 0, ..., 1, 0, 0],\n",
      "        [1, 0, 0, ..., 0, 0, 0],\n",
      "        [1, 0, 0, ..., 0, 0, 0],\n",
      "        ...,\n",
      "        [0, 0, 1, ..., 0, 0, 0],\n",
      "        [0, 1, 0, ..., 1, 0, 0],\n",
      "        [0, 0, 1, ..., 0, 0, 0]]) ... array([[0, 1, 0, ..., 1, 0, 0],\n",
      "                                             [1, 0, 0, ..., 0, 0, 0],\n",
      "                                             [1, 0, 0, ..., 0, 0, 0],\n",
      "                                             ...,\n",
      "                                             [1, 0, 0, ..., 1, 0, 0],\n",
      "                                             [1, 0, 0, ..., 0, 1, 0],\n",
      "                                             [0, 0, 1, ..., 0, 0, 0]])\n",
      " array([[0, 1, 0, ..., 1, 0, 0],\n",
      "        [1, 0, 0, ..., 0, 0, 0],\n",
      "        [1, 0, 0, ..., 0, 0, 0],\n",
      "        ...,\n",
      "        [1, 0, 0, ..., 0, 0, 0],\n",
      "        [0, 0, 1, ..., 0, 0, 0],\n",
      "        [0, 0, 1, ..., 0, 0, 0]]) array([[0, 1, 0, ..., 1, 0, 0],\n",
      "                                         [1, 0, 0, ..., 0, 0, 0],\n",
      "                                         [1, 0, 0, ..., 0, 0, 0],\n",
      "                                         ...,\n",
      "                                         [1, 0, 0, ..., 0, 0, 0],\n",
      "                                         [0, 0, 1, ..., 0, 0, 0],\n",
      "                                         [0, 0, 1, ..., 0, 0, 0]])]\n"
     ]
    }
   ],
   "source": [
    "print(ab_feature)"
   ]
  },
  {
   "cell_type": "markdown",
   "metadata": {},
   "source": [
    "Notice that shape is not consistent across all molecules due to the varying number of atoms for each molecule, but the dimension of the one-hot vector is consistent, since it is defined by the atom_features function above."
   ]
  },
  {
   "cell_type": "code",
   "execution_count": 15,
   "metadata": {},
   "outputs": [
    {
     "name": "stderr",
     "output_type": "stream",
     "text": [
      "<ipython-input-15-b1d6dac4b4ba>:9: VisibleDeprecationWarning: Creating an ndarray from ragged nested sequences (which is a list-or-tuple of lists-or-tuples-or ndarrays with different lengths or shapes) is deprecated. If you meant to do this, you must specify 'dtype=object' when creating the ndarray.\n",
      "  virus_feature = np.asarray(virus_feature)\n"
     ]
    }
   ],
   "source": [
    "virus_feature = []\n",
    "for i in range (len(mol_virus)):\n",
    "    ab = mol2vec(mol_virus[i])\n",
    "    for i in range(len(ab)):\n",
    "    \tif ((ab[i][29]==1)):\n",
    "    \t\tprint(i)\n",
    "    ab = np.asarray(ab)\n",
    "    virus_feature.append(ab)\n",
    "virus_feature = np.asarray(virus_feature)"
   ]
  },
  {
   "cell_type": "code",
   "execution_count": 16,
   "metadata": {},
   "outputs": [
    {
     "name": "stdout",
     "output_type": "stream",
     "text": [
      "1933\n",
      "(53, 37)\n",
      "(255, 37)\n"
     ]
    }
   ],
   "source": [
    "print(virus_feature.shape[0])\n",
    "print(virus_feature[0].shape)\n",
    "print(virus_feature[1932].shape)"
   ]
  },
  {
   "cell_type": "code",
   "execution_count": 17,
   "metadata": {},
   "outputs": [
    {
     "name": "stdout",
     "output_type": "stream",
     "text": [
      "[array([[0, 1, 0, ..., 1, 0, 0],\n",
      "        [1, 0, 0, ..., 0, 0, 0],\n",
      "        [1, 0, 0, ..., 0, 0, 0],\n",
      "        ...,\n",
      "        [1, 0, 0, ..., 1, 0, 0],\n",
      "        [0, 1, 0, ..., 1, 0, 0],\n",
      "        [0, 0, 1, ..., 0, 0, 0]]) array([[0, 1, 0, ..., 1, 0, 0],\n",
      "                                         [1, 0, 0, ..., 0, 0, 0],\n",
      "                                         [1, 0, 0, ..., 0, 0, 0],\n",
      "                                         ...,\n",
      "                                         [1, 0, 0, ..., 1, 0, 0],\n",
      "                                         [0, 1, 0, ..., 1, 0, 0],\n",
      "                                         [0, 0, 1, ..., 0, 0, 0]])\n",
      " array([[0, 1, 0, ..., 1, 0, 0],\n",
      "        [1, 0, 0, ..., 0, 0, 0],\n",
      "        [1, 0, 0, ..., 0, 0, 0],\n",
      "        ...,\n",
      "        [1, 0, 0, ..., 1, 0, 0],\n",
      "        [0, 1, 0, ..., 1, 0, 0],\n",
      "        [0, 0, 1, ..., 0, 0, 0]]) ... array([[0, 1, 0, ..., 1, 0, 0],\n",
      "                                             [1, 0, 0, ..., 0, 0, 0],\n",
      "                                             [1, 0, 0, ..., 0, 0, 0],\n",
      "                                             ...,\n",
      "                                             [0, 0, 1, ..., 0, 0, 0],\n",
      "                                             [0, 1, 0, ..., 1, 0, 0],\n",
      "                                             [0, 0, 1, ..., 0, 0, 0]])\n",
      " array([[0, 1, 0, ..., 1, 0, 0],\n",
      "        [1, 0, 0, ..., 0, 0, 0],\n",
      "        [1, 0, 0, ..., 0, 0, 0],\n",
      "        ...,\n",
      "        [1, 0, 0, ..., 0, 0, 0],\n",
      "        [0, 0, 1, ..., 0, 0, 0],\n",
      "        [0, 0, 1, ..., 0, 0, 0]]) array([[0, 1, 0, ..., 1, 0, 0],\n",
      "                                         [1, 0, 0, ..., 0, 0, 0],\n",
      "                                         [1, 0, 0, ..., 0, 0, 0],\n",
      "                                         ...,\n",
      "                                         [0, 0, 1, ..., 0, 0, 0],\n",
      "                                         [0, 0, 1, ..., 0, 0, 0],\n",
      "                                         [0, 0, 1, ..., 0, 0, 0]])]\n"
     ]
    }
   ],
   "source": [
    "print(virus_feature)"
   ]
  },
  {
   "cell_type": "markdown",
   "metadata": {},
   "source": [
    "# 4. Represent molecules in adjacency matrix and distance matrix"
   ]
  },
  {
   "cell_type": "markdown",
   "metadata": {},
   "source": [
    "### 4.1 Adjacency matrix\n",
    "Note that the dimension of the molecule's adjacency matrix is not the same for all molecules. But it must be a square matrix."
   ]
  },
  {
   "cell_type": "code",
   "execution_count": 18,
   "metadata": {},
   "outputs": [
    {
     "name": "stdout",
     "output_type": "stream",
     "text": [
      "(179, 179)\n"
     ]
    },
    {
     "data": {
      "text/plain": [
       "array([[0, 1, 0, ..., 0, 0, 0],\n",
       "       [1, 0, 1, ..., 0, 0, 0],\n",
       "       [0, 1, 0, ..., 0, 0, 0],\n",
       "       ...,\n",
       "       [0, 0, 0, ..., 0, 0, 0],\n",
       "       [0, 0, 0, ..., 0, 0, 0],\n",
       "       [0, 0, 0, ..., 0, 0, 0]], dtype=int32)"
      ]
     },
     "execution_count": 18,
     "metadata": {},
     "output_type": "execute_result"
    }
   ],
   "source": [
    "adj_matrix = Chem.rdmolops.GetAdjacencyMatrix(mol_ab[0]) # Returns the molecule’s adjacency matrix.\n",
    "print(adj_matrix.shape)\n",
    "adj_matrix"
   ]
  },
  {
   "cell_type": "code",
   "execution_count": 19,
   "metadata": {},
   "outputs": [
    {
     "name": "stdout",
     "output_type": "stream",
     "text": [
      "(263, 263)\n"
     ]
    },
    {
     "data": {
      "text/plain": [
       "array([[0, 1, 0, ..., 0, 0, 0],\n",
       "       [1, 0, 1, ..., 0, 0, 0],\n",
       "       [0, 1, 0, ..., 0, 0, 0],\n",
       "       ...,\n",
       "       [0, 0, 0, ..., 0, 1, 0],\n",
       "       [0, 0, 0, ..., 1, 0, 0],\n",
       "       [0, 0, 0, ..., 0, 0, 0]], dtype=int32)"
      ]
     },
     "execution_count": 19,
     "metadata": {},
     "output_type": "execute_result"
    }
   ],
   "source": [
    "adj_matrix = Chem.rdmolops.GetAdjacencyMatrix(mol_ab[1932]) # Returns the molecule’s adjacency matrix.\n",
    "print(adj_matrix.shape)\n",
    "adj_matrix"
   ]
  },
  {
   "cell_type": "markdown",
   "metadata": {},
   "source": [
    "### 4.2 Distance matrix"
   ]
  },
  {
   "cell_type": "code",
   "execution_count": 20,
   "metadata": {},
   "outputs": [
    {
     "name": "stdout",
     "output_type": "stream",
     "text": [
      "(179, 179)\n"
     ]
    },
    {
     "data": {
      "text/plain": [
       "array([[ 0.,  1.,  2., ..., 70., 70., 69.],\n",
       "       [ 1.,  0.,  1., ..., 69., 69., 68.],\n",
       "       [ 2.,  1.,  0., ..., 68., 68., 67.],\n",
       "       ...,\n",
       "       [70., 69., 68., ...,  0.,  2.,  5.],\n",
       "       [70., 69., 68., ...,  2.,  0.,  5.],\n",
       "       [69., 68., 67., ...,  5.,  5.,  0.]])"
      ]
     },
     "execution_count": 20,
     "metadata": {},
     "output_type": "execute_result"
    }
   ],
   "source": [
    "distance_matrix = Chem.rdmolops.GetDistanceMatrix(mol_ab[0]) # Returns the molecule’s topological distance matrix.\n",
    "print(distance_matrix.shape)\n",
    "distance_matrix"
   ]
  },
  {
   "cell_type": "markdown",
   "metadata": {},
   "source": [
    "### 4.3 3-D distance matrix\n",
    "Looks like RDKit library doesn't allow this operation..."
   ]
  },
  {
   "cell_type": "code",
   "execution_count": 21,
   "metadata": {},
   "outputs": [
    {
     "ename": "ValueError",
     "evalue": "Bad Conformer Id",
     "output_type": "error",
     "traceback": [
      "\u001b[0;31m---------------------------------------------------------------------------\u001b[0m",
      "\u001b[0;31mValueError\u001b[0m                                Traceback (most recent call last)",
      "\u001b[0;32m<ipython-input-21-6bbca4331e3d>\u001b[0m in \u001b[0;36m<module>\u001b[0;34m\u001b[0m\n\u001b[0;32m----> 1\u001b[0;31m \u001b[0mdistance_matrix_3D\u001b[0m \u001b[0;34m=\u001b[0m \u001b[0mChem\u001b[0m\u001b[0;34m.\u001b[0m\u001b[0mrdmolops\u001b[0m\u001b[0;34m.\u001b[0m\u001b[0mGet3DDistanceMatrix\u001b[0m\u001b[0;34m(\u001b[0m\u001b[0mmol_ab\u001b[0m\u001b[0;34m[\u001b[0m\u001b[0;36m0\u001b[0m\u001b[0;34m]\u001b[0m\u001b[0;34m)\u001b[0m \u001b[0;31m# Returns the molecule’s 3D distance matrix.\u001b[0m\u001b[0;34m\u001b[0m\u001b[0;34m\u001b[0m\u001b[0m\n\u001b[0m\u001b[1;32m      2\u001b[0m \u001b[0mprint\u001b[0m\u001b[0;34m(\u001b[0m\u001b[0mdistance_matrix_3D\u001b[0m\u001b[0;34m.\u001b[0m\u001b[0mshape\u001b[0m\u001b[0;34m)\u001b[0m\u001b[0;34m\u001b[0m\u001b[0;34m\u001b[0m\u001b[0m\n\u001b[1;32m      3\u001b[0m \u001b[0mdistance_matrix_3D\u001b[0m\u001b[0;34m\u001b[0m\u001b[0;34m\u001b[0m\u001b[0m\n",
      "\u001b[0;31mValueError\u001b[0m: Bad Conformer Id"
     ]
    }
   ],
   "source": [
    "distance_matrix_3D = Chem.rdmolops.Get3DDistanceMatrix(mol_ab[0]) # Returns the molecule’s 3D distance matrix.\n",
    "print(distance_matrix_3D.shape)\n",
    "distance_matrix_3D"
   ]
  },
  {
   "cell_type": "markdown",
   "metadata": {},
   "source": [
    "### 4.4 Generate the adjacency matrix\n",
    "Note that np.eye means an idendity matrix I"
   ]
  },
  {
   "cell_type": "code",
   "execution_count": 22,
   "metadata": {},
   "outputs": [
    {
     "name": "stderr",
     "output_type": "stream",
     "text": [
      "<ipython-input-22-47a4760b3636>:7: VisibleDeprecationWarning: Creating an ndarray from ragged nested sequences (which is a list-or-tuple of lists-or-tuples-or ndarrays with different lengths or shapes) is deprecated. If you meant to do this, you must specify 'dtype=object' when creating the ndarray.\n",
      "  ab_adj = np.asarray(ab_adj)\n"
     ]
    }
   ],
   "source": [
    "ab_adj = []\n",
    "for i in range(len(mol_ab)):\n",
    "    p1 = [Chem.rdmolops.GetAdjacencyMatrix(mol_ab[i])+np.eye(Chem.rdmolops.GetAdjacencyMatrix(mol_ab[i]).shape[0])] # Adjacency matrix + I\n",
    "    p1 = np.asarray(p1)\n",
    "    p1 = p1.reshape(p1.shape[1], p1.shape[2])\n",
    "    ab_adj.append(p1)\n",
    "ab_adj = np.asarray(ab_adj)"
   ]
  },
  {
   "cell_type": "code",
   "execution_count": 23,
   "metadata": {},
   "outputs": [
    {
     "name": "stdout",
     "output_type": "stream",
     "text": [
      "(1933,)\n",
      "(179, 179)\n",
      "(263, 263)\n"
     ]
    }
   ],
   "source": [
    "print(ab_adj.shape)\n",
    "print(ab_adj[0].shape)\n",
    "print(ab_adj[1932].shape)"
   ]
  },
  {
   "cell_type": "code",
   "execution_count": 24,
   "metadata": {},
   "outputs": [
    {
     "name": "stderr",
     "output_type": "stream",
     "text": [
      "<ipython-input-24-e86f58bb27e4>:7: VisibleDeprecationWarning: Creating an ndarray from ragged nested sequences (which is a list-or-tuple of lists-or-tuples-or ndarrays with different lengths or shapes) is deprecated. If you meant to do this, you must specify 'dtype=object' when creating the ndarray.\n",
      "  virus_adj = np.asarray(virus_adj)\n"
     ]
    }
   ],
   "source": [
    "virus_adj = []\n",
    "for i in range(len(mol_virus)):\n",
    "    p2 = [Chem.rdmolops.GetAdjacencyMatrix(mol_virus[i])+np.eye(Chem.rdmolops.GetAdjacencyMatrix(mol_virus[i]).shape[0])] # Adjacency matrix + I\n",
    "    p2 = np.asarray(p2)\n",
    "    p2 = p2.reshape(p2.shape[1], p2.shape[2])\n",
    "    virus_adj.append(p2)\n",
    "virus_adj = np.asarray(virus_adj)"
   ]
  },
  {
   "cell_type": "code",
   "execution_count": 25,
   "metadata": {},
   "outputs": [
    {
     "name": "stdout",
     "output_type": "stream",
     "text": [
      "(1933,)\n",
      "(53, 53)\n",
      "(255, 255)\n"
     ]
    }
   ],
   "source": [
    "print(virus_adj.shape)\n",
    "print(virus_adj[0].shape)\n",
    "print(virus_adj[1932].shape)"
   ]
  },
  {
   "cell_type": "markdown",
   "metadata": {},
   "source": [
    "# 5. Matrix multiplication\n",
    "For each molecule: [ adjacency matrix ] X [ feature matrix ]"
   ]
  },
  {
   "cell_type": "code",
   "execution_count": 26,
   "metadata": {},
   "outputs": [
    {
     "name": "stderr",
     "output_type": "stream",
     "text": [
      "<ipython-input-26-2f3dbe5ad8b9>:5: VisibleDeprecationWarning: Creating an ndarray from ragged nested sequences (which is a list-or-tuple of lists-or-tuples-or ndarrays with different lengths or shapes) is deprecated. If you meant to do this, you must specify 'dtype=object' when creating the ndarray.\n",
      "  matmul_ab = np.asarray(matmul_ab)\n"
     ]
    }
   ],
   "source": [
    "matmul_ab = []\n",
    "for i in range (ab_adj.shape[0]):\n",
    "    matmul_temp = np.matmul(ab_adj[i],ab_feature[i]) # adjacency x feature\n",
    "    matmul_ab.append(matmul_temp)\n",
    "matmul_ab = np.asarray(matmul_ab)"
   ]
  },
  {
   "cell_type": "code",
   "execution_count": 27,
   "metadata": {},
   "outputs": [
    {
     "name": "stdout",
     "output_type": "stream",
     "text": [
      "(1933,)\n",
      "(179, 37)\n",
      "(263, 37)\n"
     ]
    }
   ],
   "source": [
    "print(matmul_ab.shape)\n",
    "print(matmul_ab[0].shape)\n",
    "print(matmul_ab[1932].shape)"
   ]
  },
  {
   "cell_type": "code",
   "execution_count": 28,
   "metadata": {},
   "outputs": [
    {
     "name": "stderr",
     "output_type": "stream",
     "text": [
      "<ipython-input-28-eaacb4fb0fce>:5: VisibleDeprecationWarning: Creating an ndarray from ragged nested sequences (which is a list-or-tuple of lists-or-tuples-or ndarrays with different lengths or shapes) is deprecated. If you meant to do this, you must specify 'dtype=object' when creating the ndarray.\n",
      "  matmul_virus = np.asarray(matmul_virus)\n"
     ]
    }
   ],
   "source": [
    "matmul_virus = []\n",
    "for i in range (virus_adj.shape[0]):\n",
    "    matmul_temp = np.matmul(virus_adj[i],virus_feature[i]) # adjacency x feature\n",
    "    matmul_virus.append(matmul_temp)\n",
    "matmul_virus = np.asarray(matmul_virus)"
   ]
  },
  {
   "cell_type": "code",
   "execution_count": 29,
   "metadata": {},
   "outputs": [
    {
     "name": "stdout",
     "output_type": "stream",
     "text": [
      "(1933,)\n",
      "(53, 37)\n",
      "(255, 37)\n"
     ]
    }
   ],
   "source": [
    "print(matmul_virus.shape)\n",
    "print(matmul_virus[0].shape)\n",
    "print(matmul_virus[1932].shape)"
   ]
  },
  {
   "cell_type": "markdown",
   "metadata": {},
   "source": [
    "# 6. Mean pooling"
   ]
  },
  {
   "cell_type": "markdown",
   "metadata": {},
   "source": [
    "### 6.1 Mean over all atoms of a particular molecule\n",
    "It is a mean over all atoms of a particular molecule"
   ]
  },
  {
   "cell_type": "code",
   "execution_count": 30,
   "metadata": {},
   "outputs": [
    {
     "name": "stdout",
     "output_type": "stream",
     "text": [
      "(37,)\n",
      "[2.24022346 0.48044693 0.3575419  0.         0.         0.\n",
      " 0.         0.54748603 1.12290503 1.40782123 0.         0.\n",
      " 0.         0.         0.         0.         0.         1.17318436\n",
      " 1.29050279 0.46927374 0.1452514  0.         0.         0.\n",
      " 0.         0.         0.         1.9273743  1.15083799 0.\n",
      " 0.         0.53072626 1.15642458 1.30726257 0.46927374 0.1452514\n",
      " 0.        ]\n"
     ]
    }
   ],
   "source": [
    "mean_test = np.mean(matmul_ab[0], axis=0)\n",
    "print(mean_test.shape)\n",
    "print(mean_test)"
   ]
  },
  {
   "cell_type": "markdown",
   "metadata": {},
   "source": [
    "### 6.2 Apply mean pooling to antibody and virus\n",
    "For each molecule, 1) pool a mean over all atoms of a particular molecule; 2) retain the 37 feature points one-hot vector embedding layer"
   ]
  },
  {
   "cell_type": "code",
   "execution_count": 31,
   "metadata": {},
   "outputs": [],
   "source": [
    "mean_ab = []\n",
    "for i in range (matmul_ab.shape[0]):\n",
    "    mean1 = np.mean(matmul_ab[i],axis=0).reshape(37) # pooling\n",
    "    mean_ab.append(mean1)\n",
    "mean_ab = np.asarray(mean_ab)"
   ]
  },
  {
   "cell_type": "code",
   "execution_count": 32,
   "metadata": {},
   "outputs": [
    {
     "name": "stdout",
     "output_type": "stream",
     "text": [
      "(1933, 37)\n"
     ]
    }
   ],
   "source": [
    "print(mean_ab.shape)"
   ]
  },
  {
   "cell_type": "code",
   "execution_count": 33,
   "metadata": {},
   "outputs": [],
   "source": [
    "mean_virus = []\n",
    "for i in range (matmul_virus.shape[0]):\n",
    "    mean2 = np.mean(matmul_virus[i],axis=0).reshape(37) # pooling\n",
    "    mean_virus.append(mean2)\n",
    "mean_virus = np.asarray(mean_virus)"
   ]
  },
  {
   "cell_type": "code",
   "execution_count": 34,
   "metadata": {},
   "outputs": [
    {
     "name": "stdout",
     "output_type": "stream",
     "text": [
      "(1933, 37)\n"
     ]
    }
   ],
   "source": [
    "print(mean_virus.shape)"
   ]
  },
  {
   "cell_type": "markdown",
   "metadata": {},
   "source": [
    "# 7 Element-wise sum for mean_ab and mean_virus matrices\n",
    "Finally, we perform an element-wise sum for the antibody (1933 X 37) matrix and the virus (1933 X 37) matrix. "
   ]
  },
  {
   "cell_type": "markdown",
   "metadata": {},
   "source": [
    "### 7.1 Element-wise sum"
   ]
  },
  {
   "cell_type": "code",
   "execution_count": 35,
   "metadata": {},
   "outputs": [
    {
     "name": "stdout",
     "output_type": "stream",
     "text": [
      "(1933, 37)\n"
     ]
    }
   ],
   "source": [
    "mean_final_elementwise_sum = mean_ab + mean_virus\n",
    "print(mean_final_elementwise_sum.shape)"
   ]
  },
  {
   "cell_type": "markdown",
   "metadata": {},
   "source": [
    "### 7.2 Saving as npy file"
   ]
  },
  {
   "cell_type": "markdown",
   "metadata": {},
   "source": [
    "### 7.2.1 Defining X and Y matrices"
   ]
  },
  {
   "cell_type": "code",
   "execution_count": 36,
   "metadata": {},
   "outputs": [],
   "source": [
    "X = mean_final_elementwise_sum\n",
    "y = df['Class'].values"
   ]
  },
  {
   "cell_type": "markdown",
   "metadata": {},
   "source": [
    "### 7.2.2 Finding path"
   ]
  },
  {
   "cell_type": "code",
   "execution_count": 37,
   "metadata": {},
   "outputs": [
    {
     "name": "stdout",
     "output_type": "stream",
     "text": [
      "/Users/Joshua/Dropbox/NTU_studies/2021_22_Year_2/URECA/Reading/PotentialAB\n"
     ]
    }
   ],
   "source": [
    "CURRENT_PATH = os.getcwd()\n",
    "print(CURRENT_PATH)"
   ]
  },
  {
   "cell_type": "markdown",
   "metadata": {},
   "source": [
    "### 7.2.3 Defining name"
   ]
  },
  {
   "cell_type": "code",
   "execution_count": 38,
   "metadata": {},
   "outputs": [
    {
     "name": "stdout",
     "output_type": "stream",
     "text": [
      "/Users/Joshua/Dropbox/NTU_studies/2021_22_Year_2/URECA/Reading/PotentialAB/mean_final_elementwise_sum.npy\n",
      "/Users/Joshua/Dropbox/NTU_studies/2021_22_Year_2/URECA/Reading/PotentialAB/IC50_class.npy\n"
     ]
    }
   ],
   "source": [
    "X_file_name = os.path.join(CURRENT_PATH, \"mean_final_elementwise_sum.npy\")\n",
    "print(X_file_name)\n",
    "Y_file_name = os.path.join(CURRENT_PATH, \"IC50_class.npy\")\n",
    "print(Y_file_name)"
   ]
  },
  {
   "cell_type": "markdown",
   "metadata": {},
   "source": [
    "### 7.3 Saving as npy file"
   ]
  },
  {
   "cell_type": "code",
   "execution_count": 39,
   "metadata": {},
   "outputs": [
    {
     "name": "stdout",
     "output_type": "stream",
     "text": [
      "Save file 'mean_final_elementwise_sum.npy' into directory.\n",
      "Save file 'IC50_class.npy' into directory.\n"
     ]
    }
   ],
   "source": [
    "np.save(X_file_name, X)\n",
    "print(\"Save file 'mean_final_elementwise_sum.npy' into directory.\")\n",
    "np.save(Y_file_name, y)\n",
    "print(\"Save file 'IC50_class.npy' into directory.\")"
   ]
  },
  {
   "cell_type": "markdown",
   "metadata": {},
   "source": [
    "### 7.4 Loading back"
   ]
  },
  {
   "cell_type": "code",
   "execution_count": 40,
   "metadata": {},
   "outputs": [
    {
     "name": "stdout",
     "output_type": "stream",
     "text": [
      "Loaded file 'mean_final_elementwise_sum.npy'\n",
      "Loaded file 'IC50_class.npy'\n"
     ]
    }
   ],
   "source": [
    "X = np.load(os.path.join(os.getcwd(), \"mean_final_elementwise_sum.npy\"))\n",
    "print(\"Loaded file 'mean_final_elementwise_sum.npy'\")\n",
    "Y = np.load(os.path.join(os.getcwd(), \"IC50_class.npy\"))\n",
    "print(\"Loaded file 'IC50_class.npy'\")"
   ]
  },
  {
   "cell_type": "markdown",
   "metadata": {},
   "source": [
    "### 7.5 Test loading back"
   ]
  },
  {
   "cell_type": "code",
   "execution_count": 41,
   "metadata": {},
   "outputs": [
    {
     "name": "stdout",
     "output_type": "stream",
     "text": [
      "(1933, 37)\n",
      "(1933,)\n"
     ]
    }
   ],
   "source": [
    "print(X.shape)\n",
    "print(Y.shape)"
   ]
  },
  {
   "cell_type": "code",
   "execution_count": 42,
   "metadata": {},
   "outputs": [
    {
     "name": "stdout",
     "output_type": "stream",
     "text": [
      "[[4.44777063 0.89554127 0.77263624 ... 0.99757563 0.25845894 0.        ]\n",
      " [4.45590974 0.91181948 0.74969876 ... 1.01829335 0.26289846 0.        ]\n",
      " [4.45590974 0.91181948 0.74969876 ... 1.01829335 0.26289846 0.        ]\n",
      " ...\n",
      " [4.49164124 0.99316656 0.65893838 ... 0.89402074 0.23465528 0.        ]\n",
      " [4.27726986 0.91692938 0.8685372  ... 1.23534048 0.09047919 0.        ]\n",
      " [4.34554537 0.9550287  0.80304183 ... 1.02097965 0.11716991 0.        ]]\n"
     ]
    }
   ],
   "source": [
    "print(X)"
   ]
  },
  {
   "cell_type": "code",
   "execution_count": 43,
   "metadata": {},
   "outputs": [
    {
     "name": "stdout",
     "output_type": "stream",
     "text": [
      "[1 1 1 ... 0 0 0]\n"
     ]
    }
   ],
   "source": [
    "print(Y)"
   ]
  },
  {
   "cell_type": "markdown",
   "metadata": {},
   "source": [
    "# 8. Improvement 1: Antibody and virus matrices concatenation\n",
    "Previously, we perform an element-wise sum for the antibody (1933 X 37) matrix and the virus (1933 X 37) matrix. \n",
    "\n",
    "Now, instead of summing the two matrices, we are going to concatenate the two matrices, along axis 1 (columns). This will create a (1933 X 74) resultant matrix."
   ]
  },
  {
   "cell_type": "markdown",
   "metadata": {},
   "source": [
    "### 8.1 Apply mean pooling to antibody and virus\n",
    "For each molecule, 1) pool a mean over all atoms of a particular molecule; 2) retain the 37 feature points one-hot vector embedding layer"
   ]
  },
  {
   "cell_type": "code",
   "execution_count": 44,
   "metadata": {},
   "outputs": [
    {
     "name": "stdout",
     "output_type": "stream",
     "text": [
      "(1933, 37)\n",
      "(1933, 37)\n"
     ]
    }
   ],
   "source": [
    "mean_ab = []\n",
    "for i in range (matmul_ab.shape[0]):\n",
    "    mean1 = np.mean(matmul_ab[i],axis=0).reshape(37) # pooling\n",
    "    mean_ab.append(mean1)\n",
    "mean_ab = np.asarray(mean_ab)\n",
    "print(mean_ab.shape)\n",
    "\n",
    "mean_virus = []\n",
    "for i in range (matmul_virus.shape[0]):\n",
    "    mean2 = np.mean(matmul_virus[i],axis=0).reshape(37) # pooling\n",
    "    mean_virus.append(mean2)\n",
    "mean_virus = np.asarray(mean_virus)\n",
    "print(mean_virus.shape)"
   ]
  },
  {
   "cell_type": "markdown",
   "metadata": {},
   "source": [
    "### 8.2 Concatenating mean_ab and mean_virus matrices\n",
    "We concatenate the antibody (1933 X 37) matrix and the virus (1933 X 37) matrix, along axis 1 (columns). "
   ]
  },
  {
   "cell_type": "code",
   "execution_count": 45,
   "metadata": {},
   "outputs": [
    {
     "name": "stdout",
     "output_type": "stream",
     "text": [
      "(1933, 74)\n"
     ]
    }
   ],
   "source": [
    "mean_final_concatenate = np.concatenate((mean_ab, mean_virus), axis = 1)\n",
    "print(mean_final_concatenate.shape)"
   ]
  },
  {
   "cell_type": "markdown",
   "metadata": {},
   "source": [
    "### 8.3 Saving as npy files and test loading back"
   ]
  },
  {
   "cell_type": "code",
   "execution_count": 46,
   "metadata": {},
   "outputs": [
    {
     "name": "stdout",
     "output_type": "stream",
     "text": [
      "/Users/Joshua/Dropbox/NTU_studies/2021_22_Year_2/URECA/Reading/PotentialAB\n",
      "/Users/Joshua/Dropbox/NTU_studies/2021_22_Year_2/URECA/Reading/PotentialAB/mean_final_concatenate.npy\n",
      "Save file 'mean_final_concatenate.npy' into directory.\n",
      "Loaded file 'mean_final_concatenate.npy'\n",
      "(1933, 74)\n"
     ]
    }
   ],
   "source": [
    "# Classifying X and Y\n",
    "X = mean_final_concatenate\n",
    "\n",
    "CURRENT_PATH = os.getcwd()\n",
    "print(CURRENT_PATH)\n",
    "\n",
    "X_file_name = os.path.join(CURRENT_PATH, \"mean_final_concatenate.npy\")\n",
    "print(X_file_name)\n",
    "\n",
    "np.save(X_file_name, X)\n",
    "print(\"Save file 'mean_final_concatenate.npy' into directory.\")\n",
    "\n",
    "X = np.load(os.path.join(os.getcwd(), \"mean_final_concatenate.npy\"))\n",
    "print(\"Loaded file 'mean_final_concatenate.npy'\")\n",
    "\n",
    "print(X.shape)"
   ]
  },
  {
   "cell_type": "code",
   "execution_count": 47,
   "metadata": {},
   "outputs": [
    {
     "name": "stdout",
     "output_type": "stream",
     "text": [
      "[[2.24022346 0.48044693 0.3575419  ... 0.52830189 0.11320755 0.        ]\n",
      " [2.24022346 0.48044693 0.3575419  ... 0.54901961 0.11764706 0.        ]\n",
      " [2.24022346 0.48044693 0.3575419  ... 0.54901961 0.11764706 0.        ]\n",
      " ...\n",
      " [2.38255034 0.4295302  0.29530201 ... 0.51818182 0.12727273 0.        ]\n",
      " [2.28688525 0.36885246 0.42622951 ... 0.81730769 0.05769231 0.        ]\n",
      " [2.23574144 0.43346008 0.40304183 ... 0.56470588 0.10196078 0.        ]]\n"
     ]
    }
   ],
   "source": [
    "print(X)"
   ]
  },
  {
   "cell_type": "code",
   "execution_count": null,
   "metadata": {},
   "outputs": [],
   "source": []
  }
 ],
 "metadata": {
  "interpreter": {
   "hash": "df4a993dc48a4fc878fdf954d61d5890fcafd77cb3c74a6dfc8b67fd21a37c14"
  },
  "kernelspec": {
   "display_name": "Python 3.8.8 64-bit ('base': conda)",
   "language": "python",
   "name": "python3"
  },
  "language_info": {
   "codemirror_mode": {
    "name": "ipython",
    "version": 3
   },
   "file_extension": ".py",
   "mimetype": "text/x-python",
   "name": "python",
   "nbconvert_exporter": "python",
   "pygments_lexer": "ipython3",
   "version": "3.8.8"
  },
  "orig_nbformat": 4
 },
 "nbformat": 4,
 "nbformat_minor": 2
}
