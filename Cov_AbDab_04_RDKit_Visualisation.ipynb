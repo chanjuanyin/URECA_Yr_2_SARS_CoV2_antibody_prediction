{
 "cells": [
  {
   "cell_type": "markdown",
   "metadata": {},
   "source": [
    "# 1. Import library\n",
    "Note: Combined from various sources, much more comprehensive than the original code provided. Import 也很讲究 XDXD\n",
    "\n",
    "Also note: For this \"Ab_Virus_01_Data_Preprocessing_v01.ipynb\" Jupyter Notebook, you have to run it in the <b>\"my-rdkit-env\"<b> environment."
   ]
  },
  {
   "cell_type": "markdown",
   "metadata": {},
   "source": [
    "### 1.1 Import RDKit"
   ]
  },
  {
   "cell_type": "code",
   "execution_count": 1,
   "metadata": {},
   "outputs": [],
   "source": [
    "from rdkit import Chem"
   ]
  },
  {
   "cell_type": "markdown",
   "metadata": {},
   "source": [
    "### 1.2 Import OS and Path"
   ]
  },
  {
   "cell_type": "code",
   "execution_count": 2,
   "metadata": {},
   "outputs": [],
   "source": [
    "import os\n",
    "from pathlib import Path"
   ]
  },
  {
   "cell_type": "markdown",
   "metadata": {},
   "source": [
    "### 1.3 Import data structures"
   ]
  },
  {
   "cell_type": "code",
   "execution_count": 3,
   "metadata": {},
   "outputs": [],
   "source": [
    "import pandas as pd"
   ]
  },
  {
   "cell_type": "markdown",
   "metadata": {},
   "source": [
    "# 2. Import csv file as panda df"
   ]
  },
  {
   "cell_type": "code",
   "execution_count": 4,
   "metadata": {},
   "outputs": [],
   "source": [
    "df = pd.read_csv('CoV-AbDab_extract.csv')"
   ]
  },
  {
   "cell_type": "code",
   "execution_count": 5,
   "metadata": {},
   "outputs": [
    {
     "data": {
      "text/html": [
       "<div>\n",
       "<style scoped>\n",
       "    .dataframe tbody tr th:only-of-type {\n",
       "        vertical-align: middle;\n",
       "    }\n",
       "\n",
       "    .dataframe tbody tr th {\n",
       "        vertical-align: top;\n",
       "    }\n",
       "\n",
       "    .dataframe thead th {\n",
       "        text-align: right;\n",
       "    }\n",
       "</style>\n",
       "<table border=\"1\" class=\"dataframe\">\n",
       "  <thead>\n",
       "    <tr style=\"text-align: right;\">\n",
       "      <th></th>\n",
       "      <th>Index</th>\n",
       "      <th>AB_name</th>\n",
       "      <th>Class</th>\n",
       "      <th>Paratope</th>\n",
       "      <th>Epitope</th>\n",
       "    </tr>\n",
       "  </thead>\n",
       "  <tbody>\n",
       "    <tr>\n",
       "      <th>250</th>\n",
       "      <td>251</td>\n",
       "      <td>Nb34</td>\n",
       "      <td>1</td>\n",
       "      <td>QGKGREWYASSRSEFD</td>\n",
       "      <td>VYNSAFSTFKCWNNV</td>\n",
       "    </tr>\n",
       "    <tr>\n",
       "      <th>166</th>\n",
       "      <td>167</td>\n",
       "      <td>Asarnow_5A6</td>\n",
       "      <td>1</td>\n",
       "      <td>TSSYEVISYDSNYRITMVRGEISYYSGSYNLR</td>\n",
       "      <td>YLLTEICNGVKGFNCYFPLQS</td>\n",
       "    </tr>\n",
       "    <tr>\n",
       "      <th>292</th>\n",
       "      <td>293</td>\n",
       "      <td>C118</td>\n",
       "      <td>1</td>\n",
       "      <td>QVGFTSNYYYTGYYGDYKNGSHSKGD</td>\n",
       "      <td>LYNSAFSTFKCYGVSPTKGDVRQAPGQTPDDFTVGYY</td>\n",
       "    </tr>\n",
       "    <tr>\n",
       "      <th>164</th>\n",
       "      <td>165</td>\n",
       "      <td>VHH_V</td>\n",
       "      <td>1</td>\n",
       "      <td>QGKGLEWYEQDYEGSLGGWGRDFGSW</td>\n",
       "      <td>LYNSASFSTFKCYGVSPGDVRAQVWNNNVGQY</td>\n",
       "    </tr>\n",
       "    <tr>\n",
       "      <th>257</th>\n",
       "      <td>258</td>\n",
       "      <td>P008_056</td>\n",
       "      <td>1</td>\n",
       "      <td>EVGFSYYIYSNRPYDSSNDYDISNYYDSNLETGVSGSHDS</td>\n",
       "      <td>AIHEKSNRNATVYYHKNNKSWMELMDLEGKQGNFKVTAGA</td>\n",
       "    </tr>\n",
       "    <tr>\n",
       "      <th>123</th>\n",
       "      <td>124</td>\n",
       "      <td>BD-812</td>\n",
       "      <td>1</td>\n",
       "      <td>LISWIYDDDKYYGRYYNSAL</td>\n",
       "      <td>TRNNLDSKVGGNYNQPTYGQR</td>\n",
       "    </tr>\n",
       "    <tr>\n",
       "      <th>162</th>\n",
       "      <td>163</td>\n",
       "      <td>VHH_U</td>\n",
       "      <td>1</td>\n",
       "      <td>YYSAQSGSYYWDHEE</td>\n",
       "      <td>LYNSASFSTFKCSPTGNGVGQY</td>\n",
       "    </tr>\n",
       "    <tr>\n",
       "      <th>276</th>\n",
       "      <td>277</td>\n",
       "      <td>Beta-44</td>\n",
       "      <td>1</td>\n",
       "      <td>TSYWWSYNNGELLYLYSSTW</td>\n",
       "      <td>ASTPCVKGFNCY</td>\n",
       "    </tr>\n",
       "    <tr>\n",
       "      <th>221</th>\n",
       "      <td>222</td>\n",
       "      <td>ab1</td>\n",
       "      <td>1</td>\n",
       "      <td>VGFTSSNYYSGGSYRGYDYDYSVSSYWQGSS</td>\n",
       "      <td>RDERQTGNDYLFRKSNYAGSFNYQY</td>\n",
       "    </tr>\n",
       "    <tr>\n",
       "      <th>200</th>\n",
       "      <td>201</td>\n",
       "      <td>CV2-75</td>\n",
       "      <td>1</td>\n",
       "      <td>YYYYSSRPDGNLGSKTDDNSWSD</td>\n",
       "      <td>YNFSTFKCYGVSPTKNVGYQY</td>\n",
       "    </tr>\n",
       "    <tr>\n",
       "      <th>81</th>\n",
       "      <td>82</td>\n",
       "      <td>P5A-2G7</td>\n",
       "      <td>1</td>\n",
       "      <td>SGSYYYYSGRYYGRAPWYP</td>\n",
       "      <td>NYLYLFATKGFNCYFPLQS</td>\n",
       "    </tr>\n",
       "    <tr>\n",
       "      <th>277</th>\n",
       "      <td>278</td>\n",
       "      <td>Beta-54</td>\n",
       "      <td>1</td>\n",
       "      <td>SNHYSMYSSTAGPKRPSDY</td>\n",
       "      <td>RNNLSKVGQPTYGY</td>\n",
       "    </tr>\n",
       "    <tr>\n",
       "      <th>48</th>\n",
       "      <td>49</td>\n",
       "      <td>COVOX-75</td>\n",
       "      <td>0</td>\n",
       "      <td>YVVAARNHYYNSSWAAKSFF</td>\n",
       "      <td>TRRNLDSKVGGNYNLKFLQSYGQTY</td>\n",
       "    </tr>\n",
       "    <tr>\n",
       "      <th>148</th>\n",
       "      <td>149</td>\n",
       "      <td>C1A-B3</td>\n",
       "      <td>1</td>\n",
       "      <td>VGFTSSNYYSGGATYRGDSGYRYGYDYIQGISSYYSGTISY</td>\n",
       "      <td>RDERQTGNDYYYLFRKSNYQAGSTKFNYFQSYGFTYGVGY</td>\n",
       "    </tr>\n",
       "    <tr>\n",
       "      <th>82</th>\n",
       "      <td>83</td>\n",
       "      <td>P5A-1B9</td>\n",
       "      <td>1</td>\n",
       "      <td>SISSYYYYSGSNTSNYIQPPWYYYST</td>\n",
       "      <td>KVGGNYNLLFVKGFNCYFLQSQ</td>\n",
       "    </tr>\n",
       "    <tr>\n",
       "      <th>295</th>\n",
       "      <td>296</td>\n",
       "      <td>Fab5-7</td>\n",
       "      <td>1</td>\n",
       "      <td>YVINSGGSTSTRDSSGYWDSLKYYYYYLNTY</td>\n",
       "      <td>NRGWIVNNATNVVINSWMYVSQPFLMDLERFISHEPLVDL</td>\n",
       "    </tr>\n",
       "    <tr>\n",
       "      <th>33</th>\n",
       "      <td>34</td>\n",
       "      <td>H11-H4</td>\n",
       "      <td>1</td>\n",
       "      <td>RFSRSGGSAHYVSYLLSWD</td>\n",
       "      <td>RKGNYNLLFTINGVKGCYFPLQS</td>\n",
       "    </tr>\n",
       "    <tr>\n",
       "      <th>92</th>\n",
       "      <td>93</td>\n",
       "      <td>MW01</td>\n",
       "      <td>0</td>\n",
       "      <td>ETSSFWRIVLIANYAQQRFEPTEIQSNW</td>\n",
       "      <td>YRNVGGYNYLYLFTIPCNGVKGFNYFLQS</td>\n",
       "    </tr>\n",
       "    <tr>\n",
       "      <th>22</th>\n",
       "      <td>23</td>\n",
       "      <td>S309</td>\n",
       "      <td>1</td>\n",
       "      <td>PTSYYGAWFGESLISSTSSHD</td>\n",
       "      <td>TNLCPGEVNATRKRISNCNLDR</td>\n",
       "    </tr>\n",
       "    <tr>\n",
       "      <th>54</th>\n",
       "      <td>55</td>\n",
       "      <td>B38</td>\n",
       "      <td>1</td>\n",
       "      <td>DVSGFISSNYYSGGSTYNNREAYDVIQGISSYYASGQLNSYY</td>\n",
       "      <td>RDERQTGNIDYYLFRKSNYQAGSTKFNCYFPLQSYGFQTYGVGY</td>\n",
       "    </tr>\n",
       "    <tr>\n",
       "      <th>11</th>\n",
       "      <td>12</td>\n",
       "      <td>MERS-4V2</td>\n",
       "      <td>0</td>\n",
       "      <td>SNYAYLYYTNYYYWDQRPDAAWA</td>\n",
       "      <td>RRKFERDISEE</td>\n",
       "    </tr>\n",
       "    <tr>\n",
       "      <th>114</th>\n",
       "      <td>115</td>\n",
       "      <td>7D6</td>\n",
       "      <td>0</td>\n",
       "      <td>ESGFNKDTYDGDERYDYVDYNHYYTLDWST</td>\n",
       "      <td>ASYAWNRKRNYLKPFERDISTEFLELHAP</td>\n",
       "    </tr>\n",
       "    <tr>\n",
       "      <th>73</th>\n",
       "      <td>74</td>\n",
       "      <td>FC05</td>\n",
       "      <td>1</td>\n",
       "      <td>EGYTLPEVAMFDPDGETTPFWDPLYP</td>\n",
       "      <td>YYHKNNKEW</td>\n",
       "    </tr>\n",
       "    <tr>\n",
       "      <th>260</th>\n",
       "      <td>261</td>\n",
       "      <td>Huo_C1</td>\n",
       "      <td>1</td>\n",
       "      <td>FWLSSDTPTRFAGRDTWSSYD</td>\n",
       "      <td>YFSTFKCYGVSPTKGDEVRQVGYQY</td>\n",
       "    </tr>\n",
       "    <tr>\n",
       "      <th>47</th>\n",
       "      <td>48</td>\n",
       "      <td>COVOX-253</td>\n",
       "      <td>0</td>\n",
       "      <td>TTSAWVGSNPCSTSCYDAFSSYYGY</td>\n",
       "      <td>NYYLFRKYQAGSTPKGFNCYQ</td>\n",
       "    </tr>\n",
       "    <tr>\n",
       "      <th>31</th>\n",
       "      <td>32</td>\n",
       "      <td>CV07-250</td>\n",
       "      <td>1</td>\n",
       "      <td>NSDNYGFPYNGMDSSGAYHFVYKKSGN</td>\n",
       "      <td>RGYYLFAGSTKGFNCYQSYGQYY</td>\n",
       "    </tr>\n",
       "    <tr>\n",
       "      <th>147</th>\n",
       "      <td>148</td>\n",
       "      <td>Fab-52</td>\n",
       "      <td>1</td>\n",
       "      <td>TTSYGIMFGTNQDRGDSQSNGNGFL</td>\n",
       "      <td>YANRKRYNYLERDISTEINGVKFLQS</td>\n",
       "    </tr>\n",
       "    <tr>\n",
       "      <th>282</th>\n",
       "      <td>283</td>\n",
       "      <td>Beta-43</td>\n",
       "      <td>0</td>\n",
       "      <td>WYDSNNFYSGGFFYYYGTKSYNSDGSNSWSD</td>\n",
       "      <td>QVFTFGVYYHKNSEFRSSSGWT</td>\n",
       "    </tr>\n",
       "    <tr>\n",
       "      <th>97</th>\n",
       "      <td>98</td>\n",
       "      <td>8D2</td>\n",
       "      <td>0</td>\n",
       "      <td>EKYDIDY</td>\n",
       "      <td>HKKQGNNLV</td>\n",
       "    </tr>\n",
       "    <tr>\n",
       "      <th>10</th>\n",
       "      <td>11</td>\n",
       "      <td>G4</td>\n",
       "      <td>0</td>\n",
       "      <td>TDYAVFSYYNTNKSYVDYVYGKEVR</td>\n",
       "      <td>NKNFTAIVSNGTHWFIVN</td>\n",
       "    </tr>\n",
       "  </tbody>\n",
       "</table>\n",
       "</div>"
      ],
      "text/plain": [
       "     Index      AB_name  Class                                    Paratope  \\\n",
       "250    251         Nb34      1                            QGKGREWYASSRSEFD   \n",
       "166    167  Asarnow_5A6      1            TSSYEVISYDSNYRITMVRGEISYYSGSYNLR   \n",
       "292    293         C118      1                  QVGFTSNYYYTGYYGDYKNGSHSKGD   \n",
       "164    165        VHH_V      1                  QGKGLEWYEQDYEGSLGGWGRDFGSW   \n",
       "257    258     P008_056      1    EVGFSYYIYSNRPYDSSNDYDISNYYDSNLETGVSGSHDS   \n",
       "123    124       BD-812      1                        LISWIYDDDKYYGRYYNSAL   \n",
       "162    163        VHH_U      1                             YYSAQSGSYYWDHEE   \n",
       "276    277      Beta-44      1                        TSYWWSYNNGELLYLYSSTW   \n",
       "221    222          ab1      1             VGFTSSNYYSGGSYRGYDYDYSVSSYWQGSS   \n",
       "200    201       CV2-75      1                     YYYYSSRPDGNLGSKTDDNSWSD   \n",
       "81      82      P5A-2G7      1                         SGSYYYYSGRYYGRAPWYP   \n",
       "277    278      Beta-54      1                         SNHYSMYSSTAGPKRPSDY   \n",
       "48      49     COVOX-75      0                        YVVAARNHYYNSSWAAKSFF   \n",
       "148    149       C1A-B3      1   VGFTSSNYYSGGATYRGDSGYRYGYDYIQGISSYYSGTISY   \n",
       "82      83      P5A-1B9      1                  SISSYYYYSGSNTSNYIQPPWYYYST   \n",
       "295    296       Fab5-7      1             YVINSGGSTSTRDSSGYWDSLKYYYYYLNTY   \n",
       "33      34       H11-H4      1                         RFSRSGGSAHYVSYLLSWD   \n",
       "92      93         MW01      0                ETSSFWRIVLIANYAQQRFEPTEIQSNW   \n",
       "22      23         S309      1                       PTSYYGAWFGESLISSTSSHD   \n",
       "54      55          B38      1  DVSGFISSNYYSGGSTYNNREAYDVIQGISSYYASGQLNSYY   \n",
       "11      12     MERS-4V2      0                     SNYAYLYYTNYYYWDQRPDAAWA   \n",
       "114    115          7D6      0              ESGFNKDTYDGDERYDYVDYNHYYTLDWST   \n",
       "73      74         FC05      1                  EGYTLPEVAMFDPDGETTPFWDPLYP   \n",
       "260    261       Huo_C1      1                       FWLSSDTPTRFAGRDTWSSYD   \n",
       "47      48    COVOX-253      0                   TTSAWVGSNPCSTSCYDAFSSYYGY   \n",
       "31      32     CV07-250      1                 NSDNYGFPYNGMDSSGAYHFVYKKSGN   \n",
       "147    148       Fab-52      1                   TTSYGIMFGTNQDRGDSQSNGNGFL   \n",
       "282    283      Beta-43      0             WYDSNNFYSGGFFYYYGTKSYNSDGSNSWSD   \n",
       "97      98          8D2      0                                     EKYDIDY   \n",
       "10      11           G4      0                   TDYAVFSYYNTNKSYVDYVYGKEVR   \n",
       "\n",
       "                                          Epitope  \n",
       "250                               VYNSAFSTFKCWNNV  \n",
       "166                         YLLTEICNGVKGFNCYFPLQS  \n",
       "292         LYNSAFSTFKCYGVSPTKGDVRQAPGQTPDDFTVGYY  \n",
       "164              LYNSASFSTFKCYGVSPGDVRAQVWNNNVGQY  \n",
       "257      AIHEKSNRNATVYYHKNNKSWMELMDLEGKQGNFKVTAGA  \n",
       "123                         TRNNLDSKVGGNYNQPTYGQR  \n",
       "162                        LYNSASFSTFKCSPTGNGVGQY  \n",
       "276                                  ASTPCVKGFNCY  \n",
       "221                     RDERQTGNDYLFRKSNYAGSFNYQY  \n",
       "200                         YNFSTFKCYGVSPTKNVGYQY  \n",
       "81                            NYLYLFATKGFNCYFPLQS  \n",
       "277                                RNNLSKVGQPTYGY  \n",
       "48                      TRRNLDSKVGGNYNLKFLQSYGQTY  \n",
       "148      RDERQTGNDYYYLFRKSNYQAGSTKFNYFQSYGFTYGVGY  \n",
       "82                         KVGGNYNLLFVKGFNCYFLQSQ  \n",
       "295      NRGWIVNNATNVVINSWMYVSQPFLMDLERFISHEPLVDL  \n",
       "33                        RKGNYNLLFTINGVKGCYFPLQS  \n",
       "92                  YRNVGGYNYLYLFTIPCNGVKGFNYFLQS  \n",
       "22                         TNLCPGEVNATRKRISNCNLDR  \n",
       "54   RDERQTGNIDYYLFRKSNYQAGSTKFNCYFPLQSYGFQTYGVGY  \n",
       "11                                    RRKFERDISEE  \n",
       "114                 ASYAWNRKRNYLKPFERDISTEFLELHAP  \n",
       "73                                      YYHKNNKEW  \n",
       "260                     YFSTFKCYGVSPTKGDEVRQVGYQY  \n",
       "47                          NYYLFRKYQAGSTPKGFNCYQ  \n",
       "31                        RGYYLFAGSTKGFNCYQSYGQYY  \n",
       "147                    YANRKRYNYLERDISTEINGVKFLQS  \n",
       "282                        QVFTFGVYYHKNSEFRSSSGWT  \n",
       "97                                      HKKQGNNLV  \n",
       "10                             NKNFTAIVSNGTHWFIVN  "
      ]
     },
     "execution_count": 5,
     "metadata": {},
     "output_type": "execute_result"
    }
   ],
   "source": [
    "df.sample(30)"
   ]
  },
  {
   "cell_type": "markdown",
   "metadata": {},
   "source": [
    "# 3. Convert FASTA sequences to Molecular and Atomic representation, and finally to one-hot vector\n",
    "One-hot vector in dimension of 310 molecules X 239 atoms X 37 atomic features"
   ]
  },
  {
   "cell_type": "code",
   "execution_count": 6,
   "metadata": {},
   "outputs": [
    {
     "name": "stdout",
     "output_type": "stream",
     "text": [
      "310\n"
     ]
    }
   ],
   "source": [
    "mol_ab = []\n",
    "for i in range (len(df['Paratope'])):\n",
    "    mol = Chem.MolFromFASTA(df['Paratope'].loc[i])\n",
    "    mol_ab.append(mol)\n",
    "print(len(mol_ab))"
   ]
  },
  {
   "cell_type": "code",
   "execution_count": 7,
   "metadata": {},
   "outputs": [
    {
     "name": "stdout",
     "output_type": "stream",
     "text": [
      "310\n"
     ]
    }
   ],
   "source": [
    "mol_virus = []\n",
    "for i in range (len(df['Epitope'])):\n",
    "    mol = Chem.MolFromFASTA(df['Epitope'].loc[i])\n",
    "    mol_virus.append(mol)\n",
    "print(len(mol_virus))"
   ]
  },
  {
   "cell_type": "code",
   "execution_count": 8,
   "metadata": {},
   "outputs": [
    {
     "data": {
      "image/png": "[encoded data removed]",
      "text/plain": [
       "<rdkit.Chem.rdchem.Mol at 0x1840b87d580>"
      ]
     },
     "execution_count": 8,
     "metadata": {},
     "output_type": "execute_result"
    }
   ],
   "source": [
    "# Visualise a molecule:\n",
    "\n",
    "mol = mol_ab[25]\n",
    "mol"
   ]
  },
  {
   "cell_type": "code",
   "execution_count": 9,
   "metadata": {},
   "outputs": [
    {
     "data": {
      "image/png": "[encoded data removed]",
      "text/plain": [
       "<rdkit.Chem.rdchem.Mol at 0x1840b894fa0>"
      ]
     },
     "execution_count": 9,
     "metadata": {},
     "output_type": "execute_result"
    }
   ],
   "source": [
    "# Visualise a molecule:\n",
    "\n",
    "mol = mol_virus[25]\n",
    "mol"
   ]
  },
  {
   "cell_type": "code",
   "execution_count": null,
   "metadata": {},
   "outputs": [],
   "source": []
  }
 ],
 "metadata": {
  "interpreter": {
   "hash": "df4a993dc48a4fc878fdf954d61d5890fcafd77cb3c74a6dfc8b67fd21a37c14"
  },
  "kernelspec": {
   "display_name": "Python 3.8.8 64-bit ('base': conda)",
   "language": "python",
   "name": "python3"
  },
  "language_info": {
   "codemirror_mode": {
    "name": "ipython",
    "version": 3
   },
   "file_extension": ".py",
   "mimetype": "text/x-python",
   "name": "python",
   "nbconvert_exporter": "python",
   "pygments_lexer": "ipython3",
   "version": "3.9.9"
  },
  "orig_nbformat": 4
 },
 "nbformat": 4,
 "nbformat_minor": 2
}
